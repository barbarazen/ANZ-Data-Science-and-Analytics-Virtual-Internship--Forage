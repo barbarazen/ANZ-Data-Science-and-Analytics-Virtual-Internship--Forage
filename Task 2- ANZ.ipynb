{
 "cells": [
  {
   "cell_type": "markdown",
   "metadata": {},
   "source": [
    "# Libraries"
   ]
  },
  {
   "cell_type": "code",
   "execution_count": 1,
   "metadata": {},
   "outputs": [],
   "source": [
    "# Data analysis and wrangling\n",
    "import pandas as pd\n",
    "import numpy as np\n",
    "\n",
    "# Data visualisation\n",
    "import matplotlib.pyplot as plt\n",
    "import seaborn as sns\n",
    "get_ipython().run_line_magic('matplotlib', 'inline')\n",
    "\n",
    "#remove warnings\n",
    "import warnings\n",
    "warnings.filterwarnings('ignore')\n",
    "\n",
    "#sklearn\n",
    "from sklearn.model_selection import train_test_split, GridSearchCV\n",
    "from sklearn.linear_model import LinearRegression\n",
    "from statsmodels.tools.eval_measures import rmse\n",
    "from sklearn import linear_model\n",
    "from sklearn import metrics\n",
    "from sklearn.tree import DecisionTreeRegressor\n",
    "from sklearn.metrics import mean_squared_error as MSE"
   ]
  },
  {
   "cell_type": "markdown",
   "metadata": {},
   "source": [
    "# Import and read data\n"
   ]
  },
  {
   "cell_type": "code",
   "execution_count": 2,
   "metadata": {},
   "outputs": [
    {
     "data": {
      "text/html": [
       "<div>\n",
       "<style scoped>\n",
       "    .dataframe tbody tr th:only-of-type {\n",
       "        vertical-align: middle;\n",
       "    }\n",
       "\n",
       "    .dataframe tbody tr th {\n",
       "        vertical-align: top;\n",
       "    }\n",
       "\n",
       "    .dataframe thead th {\n",
       "        text-align: right;\n",
       "    }\n",
       "</style>\n",
       "<table border=\"1\" class=\"dataframe\">\n",
       "  <thead>\n",
       "    <tr style=\"text-align: right;\">\n",
       "      <th></th>\n",
       "      <th>status</th>\n",
       "      <th>card_present_flag</th>\n",
       "      <th>account</th>\n",
       "      <th>currency</th>\n",
       "      <th>long_lat</th>\n",
       "      <th>txn_description</th>\n",
       "      <th>merchant_id</th>\n",
       "      <th>first_name</th>\n",
       "      <th>balance</th>\n",
       "      <th>date</th>\n",
       "      <th>...</th>\n",
       "      <th>age</th>\n",
       "      <th>merchant_suburb</th>\n",
       "      <th>merchant_state</th>\n",
       "      <th>extraction</th>\n",
       "      <th>amount</th>\n",
       "      <th>transaction_id</th>\n",
       "      <th>country</th>\n",
       "      <th>customer_id</th>\n",
       "      <th>merchant_long_lat</th>\n",
       "      <th>movement</th>\n",
       "    </tr>\n",
       "  </thead>\n",
       "  <tbody>\n",
       "    <tr>\n",
       "      <th>0</th>\n",
       "      <td>authorized</td>\n",
       "      <td>1.0</td>\n",
       "      <td>ACC-1598451071</td>\n",
       "      <td>AUD</td>\n",
       "      <td>153.41 -27.95</td>\n",
       "      <td>POS</td>\n",
       "      <td>81c48296-73be-44a7-befa-d053f48ce7cd</td>\n",
       "      <td>Diana</td>\n",
       "      <td>35.39</td>\n",
       "      <td>2018-08-01</td>\n",
       "      <td>...</td>\n",
       "      <td>26</td>\n",
       "      <td>Ashmore</td>\n",
       "      <td>QLD</td>\n",
       "      <td>2018-08-01T01:01:15.000+0000</td>\n",
       "      <td>16.25</td>\n",
       "      <td>a623070bfead4541a6b0fff8a09e706c</td>\n",
       "      <td>Australia</td>\n",
       "      <td>CUS-2487424745</td>\n",
       "      <td>153.38 -27.99</td>\n",
       "      <td>debit</td>\n",
       "    </tr>\n",
       "    <tr>\n",
       "      <th>1</th>\n",
       "      <td>authorized</td>\n",
       "      <td>0.0</td>\n",
       "      <td>ACC-1598451071</td>\n",
       "      <td>AUD</td>\n",
       "      <td>153.41 -27.95</td>\n",
       "      <td>SALES-POS</td>\n",
       "      <td>830a451c-316e-4a6a-bf25-e37caedca49e</td>\n",
       "      <td>Diana</td>\n",
       "      <td>21.20</td>\n",
       "      <td>2018-08-01</td>\n",
       "      <td>...</td>\n",
       "      <td>26</td>\n",
       "      <td>Sydney</td>\n",
       "      <td>NSW</td>\n",
       "      <td>2018-08-01T01:13:45.000+0000</td>\n",
       "      <td>14.19</td>\n",
       "      <td>13270a2a902145da9db4c951e04b51b9</td>\n",
       "      <td>Australia</td>\n",
       "      <td>CUS-2487424745</td>\n",
       "      <td>151.21 -33.87</td>\n",
       "      <td>debit</td>\n",
       "    </tr>\n",
       "    <tr>\n",
       "      <th>2</th>\n",
       "      <td>authorized</td>\n",
       "      <td>1.0</td>\n",
       "      <td>ACC-1222300524</td>\n",
       "      <td>AUD</td>\n",
       "      <td>151.23 -33.94</td>\n",
       "      <td>POS</td>\n",
       "      <td>835c231d-8cdf-4e96-859d-e9d571760cf0</td>\n",
       "      <td>Michael</td>\n",
       "      <td>5.71</td>\n",
       "      <td>2018-08-01</td>\n",
       "      <td>...</td>\n",
       "      <td>38</td>\n",
       "      <td>Sydney</td>\n",
       "      <td>NSW</td>\n",
       "      <td>2018-08-01T01:26:15.000+0000</td>\n",
       "      <td>6.42</td>\n",
       "      <td>feb79e7ecd7048a5a36ec889d1a94270</td>\n",
       "      <td>Australia</td>\n",
       "      <td>CUS-2142601169</td>\n",
       "      <td>151.21 -33.87</td>\n",
       "      <td>debit</td>\n",
       "    </tr>\n",
       "    <tr>\n",
       "      <th>3</th>\n",
       "      <td>authorized</td>\n",
       "      <td>1.0</td>\n",
       "      <td>ACC-1037050564</td>\n",
       "      <td>AUD</td>\n",
       "      <td>153.10 -27.66</td>\n",
       "      <td>SALES-POS</td>\n",
       "      <td>48514682-c78a-4a88-b0da-2d6302e64673</td>\n",
       "      <td>Rhonda</td>\n",
       "      <td>2117.22</td>\n",
       "      <td>2018-08-01</td>\n",
       "      <td>...</td>\n",
       "      <td>40</td>\n",
       "      <td>Buderim</td>\n",
       "      <td>QLD</td>\n",
       "      <td>2018-08-01T01:38:45.000+0000</td>\n",
       "      <td>40.90</td>\n",
       "      <td>2698170da3704fd981b15e64a006079e</td>\n",
       "      <td>Australia</td>\n",
       "      <td>CUS-1614226872</td>\n",
       "      <td>153.05 -26.68</td>\n",
       "      <td>debit</td>\n",
       "    </tr>\n",
       "    <tr>\n",
       "      <th>4</th>\n",
       "      <td>authorized</td>\n",
       "      <td>1.0</td>\n",
       "      <td>ACC-1598451071</td>\n",
       "      <td>AUD</td>\n",
       "      <td>153.41 -27.95</td>\n",
       "      <td>SALES-POS</td>\n",
       "      <td>b4e02c10-0852-4273-b8fd-7b3395e32eb0</td>\n",
       "      <td>Diana</td>\n",
       "      <td>17.95</td>\n",
       "      <td>2018-08-01</td>\n",
       "      <td>...</td>\n",
       "      <td>26</td>\n",
       "      <td>Mermaid Beach</td>\n",
       "      <td>QLD</td>\n",
       "      <td>2018-08-01T01:51:15.000+0000</td>\n",
       "      <td>3.25</td>\n",
       "      <td>329adf79878c4cf0aeb4188b4691c266</td>\n",
       "      <td>Australia</td>\n",
       "      <td>CUS-2487424745</td>\n",
       "      <td>153.44 -28.06</td>\n",
       "      <td>debit</td>\n",
       "    </tr>\n",
       "  </tbody>\n",
       "</table>\n",
       "<p>5 rows × 21 columns</p>\n",
       "</div>"
      ],
      "text/plain": [
       "       status  card_present_flag         account currency       long_lat  \\\n",
       "0  authorized                1.0  ACC-1598451071      AUD  153.41 -27.95   \n",
       "1  authorized                0.0  ACC-1598451071      AUD  153.41 -27.95   \n",
       "2  authorized                1.0  ACC-1222300524      AUD  151.23 -33.94   \n",
       "3  authorized                1.0  ACC-1037050564      AUD  153.10 -27.66   \n",
       "4  authorized                1.0  ACC-1598451071      AUD  153.41 -27.95   \n",
       "\n",
       "  txn_description                           merchant_id first_name  balance  \\\n",
       "0             POS  81c48296-73be-44a7-befa-d053f48ce7cd      Diana    35.39   \n",
       "1       SALES-POS  830a451c-316e-4a6a-bf25-e37caedca49e      Diana    21.20   \n",
       "2             POS  835c231d-8cdf-4e96-859d-e9d571760cf0    Michael     5.71   \n",
       "3       SALES-POS  48514682-c78a-4a88-b0da-2d6302e64673     Rhonda  2117.22   \n",
       "4       SALES-POS  b4e02c10-0852-4273-b8fd-7b3395e32eb0      Diana    17.95   \n",
       "\n",
       "        date  ... age  merchant_suburb merchant_state  \\\n",
       "0 2018-08-01  ...  26          Ashmore            QLD   \n",
       "1 2018-08-01  ...  26           Sydney            NSW   \n",
       "2 2018-08-01  ...  38           Sydney            NSW   \n",
       "3 2018-08-01  ...  40          Buderim            QLD   \n",
       "4 2018-08-01  ...  26    Mermaid Beach            QLD   \n",
       "\n",
       "                     extraction amount                    transaction_id  \\\n",
       "0  2018-08-01T01:01:15.000+0000  16.25  a623070bfead4541a6b0fff8a09e706c   \n",
       "1  2018-08-01T01:13:45.000+0000  14.19  13270a2a902145da9db4c951e04b51b9   \n",
       "2  2018-08-01T01:26:15.000+0000   6.42  feb79e7ecd7048a5a36ec889d1a94270   \n",
       "3  2018-08-01T01:38:45.000+0000  40.90  2698170da3704fd981b15e64a006079e   \n",
       "4  2018-08-01T01:51:15.000+0000   3.25  329adf79878c4cf0aeb4188b4691c266   \n",
       "\n",
       "     country     customer_id merchant_long_lat movement  \n",
       "0  Australia  CUS-2487424745     153.38 -27.99    debit  \n",
       "1  Australia  CUS-2487424745     151.21 -33.87    debit  \n",
       "2  Australia  CUS-2142601169     151.21 -33.87    debit  \n",
       "3  Australia  CUS-1614226872     153.05 -26.68    debit  \n",
       "4  Australia  CUS-2487424745     153.44 -28.06    debit  \n",
       "\n",
       "[5 rows x 21 columns]"
      ]
     },
     "execution_count": 2,
     "metadata": {},
     "output_type": "execute_result"
    }
   ],
   "source": [
    "#remove the first unwanted column 'unnamed'\n",
    "data = pd.read_excel('anz.xlsx', index_col=[0])\n",
    "data.head()"
   ]
  },
  {
   "cell_type": "code",
   "execution_count": 3,
   "metadata": {},
   "outputs": [
    {
     "name": "stdout",
     "output_type": "stream",
     "text": [
      "<class 'pandas.core.frame.DataFrame'>\n",
      "Int64Index: 12043 entries, 0 to 12042\n",
      "Data columns (total 21 columns):\n",
      " #   Column             Non-Null Count  Dtype         \n",
      "---  ------             --------------  -----         \n",
      " 0   status             12043 non-null  object        \n",
      " 1   card_present_flag  7717 non-null   float64       \n",
      " 2   account            12043 non-null  object        \n",
      " 3   currency           12043 non-null  object        \n",
      " 4   long_lat           12043 non-null  object        \n",
      " 5   txn_description    12043 non-null  object        \n",
      " 6   merchant_id        7717 non-null   object        \n",
      " 7   first_name         12043 non-null  object        \n",
      " 8   balance            12043 non-null  float64       \n",
      " 9   date               12043 non-null  datetime64[ns]\n",
      " 10  gender             12043 non-null  object        \n",
      " 11  age                12043 non-null  int64         \n",
      " 12  merchant_suburb    7717 non-null   object        \n",
      " 13  merchant_state     7717 non-null   object        \n",
      " 14  extraction         12043 non-null  object        \n",
      " 15  amount             12043 non-null  float64       \n",
      " 16  transaction_id     12043 non-null  object        \n",
      " 17  country            12043 non-null  object        \n",
      " 18  customer_id        12043 non-null  object        \n",
      " 19  merchant_long_lat  7717 non-null   object        \n",
      " 20  movement           12043 non-null  object        \n",
      "dtypes: datetime64[ns](1), float64(3), int64(1), object(16)\n",
      "memory usage: 2.0+ MB\n"
     ]
    }
   ],
   "source": [
    "data.info()"
   ]
  },
  {
   "cell_type": "code",
   "execution_count": 4,
   "metadata": {},
   "outputs": [],
   "source": [
    "#setting the background for seaborn\n",
    "sns.set_style('darkgrid')"
   ]
  },
  {
   "cell_type": "markdown",
   "metadata": {},
   "source": [
    "# Creating Annual Salary"
   ]
  },
  {
   "cell_type": "code",
   "execution_count": 5,
   "metadata": {},
   "outputs": [
    {
     "data": {
      "text/html": [
       "<div>\n",
       "<style scoped>\n",
       "    .dataframe tbody tr th:only-of-type {\n",
       "        vertical-align: middle;\n",
       "    }\n",
       "\n",
       "    .dataframe tbody tr th {\n",
       "        vertical-align: top;\n",
       "    }\n",
       "\n",
       "    .dataframe thead th {\n",
       "        text-align: right;\n",
       "    }\n",
       "</style>\n",
       "<table border=\"1\" class=\"dataframe\">\n",
       "  <thead>\n",
       "    <tr style=\"text-align: right;\">\n",
       "      <th></th>\n",
       "      <th>customer_id</th>\n",
       "      <th>amount</th>\n",
       "      <th>Annual_Salary</th>\n",
       "    </tr>\n",
       "  </thead>\n",
       "  <tbody>\n",
       "    <tr>\n",
       "      <th>0</th>\n",
       "      <td>CUS-1005756958</td>\n",
       "      <td>12616.11</td>\n",
       "      <td>50464.44</td>\n",
       "    </tr>\n",
       "    <tr>\n",
       "      <th>1</th>\n",
       "      <td>CUS-1117979751</td>\n",
       "      <td>25050.55</td>\n",
       "      <td>100202.20</td>\n",
       "    </tr>\n",
       "    <tr>\n",
       "      <th>2</th>\n",
       "      <td>CUS-1140341822</td>\n",
       "      <td>11499.06</td>\n",
       "      <td>45996.24</td>\n",
       "    </tr>\n",
       "    <tr>\n",
       "      <th>3</th>\n",
       "      <td>CUS-1147642491</td>\n",
       "      <td>22248.07</td>\n",
       "      <td>88992.28</td>\n",
       "    </tr>\n",
       "    <tr>\n",
       "      <th>4</th>\n",
       "      <td>CUS-1196156254</td>\n",
       "      <td>27326.11</td>\n",
       "      <td>109304.44</td>\n",
       "    </tr>\n",
       "  </tbody>\n",
       "</table>\n",
       "</div>"
      ],
      "text/plain": [
       "      customer_id    amount  Annual_Salary\n",
       "0  CUS-1005756958  12616.11       50464.44\n",
       "1  CUS-1117979751  25050.55      100202.20\n",
       "2  CUS-1140341822  11499.06       45996.24\n",
       "3  CUS-1147642491  22248.07       88992.28\n",
       "4  CUS-1196156254  27326.11      109304.44"
      ]
     },
     "execution_count": 5,
     "metadata": {},
     "output_type": "execute_result"
    }
   ],
   "source": [
    "#exclude all except pay/salary in txn_description\n",
    "Salary = data[(data['txn_description'] == 'PAY/SALARY')]\n",
    "\n",
    "#summing amount by customer id to sum up  all the salary during the 3 months\n",
    "Salary= Salary.pivot_table(index='customer_id',values='amount',aggfunc=np.sum)\n",
    "Salary.reset_index(inplace=True)\n",
    "\n",
    "#creating annual salary by multiplying the sum of amount by 4(the data is 3 months data and so a year which is 12 months need to be multiplied by 4)\n",
    "Salary['Annual_Salary'] = (round(Salary['amount']*4,2))\n",
    "Salary.head()"
   ]
  },
  {
   "cell_type": "markdown",
   "metadata": {},
   "source": [
    "# Creating Annual Balance"
   ]
  },
  {
   "cell_type": "code",
   "execution_count": 6,
   "metadata": {},
   "outputs": [
    {
     "data": {
      "text/html": [
       "<div>\n",
       "<style scoped>\n",
       "    .dataframe tbody tr th:only-of-type {\n",
       "        vertical-align: middle;\n",
       "    }\n",
       "\n",
       "    .dataframe tbody tr th {\n",
       "        vertical-align: top;\n",
       "    }\n",
       "\n",
       "    .dataframe thead th {\n",
       "        text-align: right;\n",
       "    }\n",
       "</style>\n",
       "<table border=\"1\" class=\"dataframe\">\n",
       "  <thead>\n",
       "    <tr style=\"text-align: right;\">\n",
       "      <th></th>\n",
       "      <th>customer_id</th>\n",
       "      <th>balance</th>\n",
       "      <th>Annual_balance</th>\n",
       "    </tr>\n",
       "  </thead>\n",
       "  <tbody>\n",
       "    <tr>\n",
       "      <th>0</th>\n",
       "      <td>CUS-1005756958</td>\n",
       "      <td>61342.65</td>\n",
       "      <td>245370.60</td>\n",
       "    </tr>\n",
       "    <tr>\n",
       "      <th>1</th>\n",
       "      <td>CUS-1117979751</td>\n",
       "      <td>83700.42</td>\n",
       "      <td>334801.68</td>\n",
       "    </tr>\n",
       "    <tr>\n",
       "      <th>2</th>\n",
       "      <td>CUS-1140341822</td>\n",
       "      <td>35050.32</td>\n",
       "      <td>140201.28</td>\n",
       "    </tr>\n",
       "    <tr>\n",
       "      <th>3</th>\n",
       "      <td>CUS-1147642491</td>\n",
       "      <td>114575.08</td>\n",
       "      <td>458300.32</td>\n",
       "    </tr>\n",
       "    <tr>\n",
       "      <th>4</th>\n",
       "      <td>CUS-1196156254</td>\n",
       "      <td>166920.02</td>\n",
       "      <td>667680.08</td>\n",
       "    </tr>\n",
       "  </tbody>\n",
       "</table>\n",
       "</div>"
      ],
      "text/plain": [
       "      customer_id    balance  Annual_balance\n",
       "0  CUS-1005756958   61342.65       245370.60\n",
       "1  CUS-1117979751   83700.42       334801.68\n",
       "2  CUS-1140341822   35050.32       140201.28\n",
       "3  CUS-1147642491  114575.08       458300.32\n",
       "4  CUS-1196156254  166920.02       667680.08"
      ]
     },
     "execution_count": 6,
     "metadata": {},
     "output_type": "execute_result"
    }
   ],
   "source": [
    "#exclude all except pay/salary in txn_description\n",
    "Balance = data[(data['txn_description'] == 'PAY/SALARY')]\n",
    "\n",
    "#summing amount by customer id to sum up  all the balance during the 3 months\n",
    "Balance= Balance.pivot_table(index='customer_id',values='balance',aggfunc=np.sum)\n",
    "Balance.reset_index(inplace=True)\n",
    "\n",
    "#creating annual balance by multiplying the sum of amount by 4(the data is 3 months data and so a year which is 12 months need to be multiplied by 4)\n",
    "Balance['Annual_balance'] = (round(Balance['balance']*4,2))\n",
    "Balance.head()"
   ]
  },
  {
   "cell_type": "markdown",
   "metadata": {},
   "source": [
    "# Expenses"
   ]
  },
  {
   "cell_type": "code",
   "execution_count": 7,
   "metadata": {},
   "outputs": [
    {
     "data": {
      "text/html": [
       "<div>\n",
       "<style scoped>\n",
       "    .dataframe tbody tr th:only-of-type {\n",
       "        vertical-align: middle;\n",
       "    }\n",
       "\n",
       "    .dataframe tbody tr th {\n",
       "        vertical-align: top;\n",
       "    }\n",
       "\n",
       "    .dataframe thead th {\n",
       "        text-align: right;\n",
       "    }\n",
       "</style>\n",
       "<table border=\"1\" class=\"dataframe\">\n",
       "  <thead>\n",
       "    <tr style=\"text-align: right;\">\n",
       "      <th></th>\n",
       "      <th>customer_id</th>\n",
       "      <th>amount</th>\n",
       "      <th>Annual_Expense</th>\n",
       "    </tr>\n",
       "  </thead>\n",
       "  <tbody>\n",
       "    <tr>\n",
       "      <th>0</th>\n",
       "      <td>CUS-1005756958</td>\n",
       "      <td>3652.86</td>\n",
       "      <td>14611.0</td>\n",
       "    </tr>\n",
       "    <tr>\n",
       "      <th>1</th>\n",
       "      <td>CUS-1117979751</td>\n",
       "      <td>8933.82</td>\n",
       "      <td>35735.0</td>\n",
       "    </tr>\n",
       "    <tr>\n",
       "      <th>2</th>\n",
       "      <td>CUS-1140341822</td>\n",
       "      <td>5511.54</td>\n",
       "      <td>22046.0</td>\n",
       "    </tr>\n",
       "    <tr>\n",
       "      <th>3</th>\n",
       "      <td>CUS-1147642491</td>\n",
       "      <td>6732.75</td>\n",
       "      <td>26931.0</td>\n",
       "    </tr>\n",
       "    <tr>\n",
       "      <th>4</th>\n",
       "      <td>CUS-1196156254</td>\n",
       "      <td>8724.61</td>\n",
       "      <td>34898.0</td>\n",
       "    </tr>\n",
       "  </tbody>\n",
       "</table>\n",
       "</div>"
      ],
      "text/plain": [
       "      customer_id   amount  Annual_Expense\n",
       "0  CUS-1005756958  3652.86         14611.0\n",
       "1  CUS-1117979751  8933.82         35735.0\n",
       "2  CUS-1140341822  5511.54         22046.0\n",
       "3  CUS-1147642491  6732.75         26931.0\n",
       "4  CUS-1196156254  8724.61         34898.0"
      ]
     },
     "execution_count": 7,
     "metadata": {},
     "output_type": "execute_result"
    }
   ],
   "source": [
    "#exclude credit in movement.\n",
    "Expense = data[data['movement'] == 'debit']\n",
    "\n",
    "#summing amount by customer id to sum up  all the expenses during the 3 months\n",
    "Expense = Expense.pivot_table(index='customer_id',values='amount',aggfunc=np.sum)\n",
    "\n",
    "#creating annual expenses by multiplying the sum of amount by 4(the data is 3 months data and so a year which is 12 months need to be multiplied by 4)\n",
    "Expense['Annual_Expense'] = round(Expense['amount']*4)\n",
    "Expense.reset_index(inplace=True)\n",
    "Expense.head()"
   ]
  },
  {
   "cell_type": "markdown",
   "metadata": {},
   "source": [
    "# Distribution Plot"
   ]
  },
  {
   "cell_type": "code",
   "execution_count": 8,
   "metadata": {},
   "outputs": [
    {
     "data": {
      "text/plain": [
       "Text(0.5, 1.0, 'Annual_Salary distribution')"
      ]
     },
     "execution_count": 8,
     "metadata": {},
     "output_type": "execute_result"
    },
    {
     "data": {
      "image/png": "[encoded data removed]",
      "text/plain": [
       "<Figure size 864x360 with 1 Axes>"
      ]
     },
     "metadata": {},
     "output_type": "display_data"
    }
   ],
   "source": [
    "plt.figure(figsize = (12, 5))\n",
    "sns.distplot(Salary.Annual_Salary)\n",
    "plt.title(\"Annual_Salary distribution\")"
   ]
  },
  {
   "cell_type": "code",
   "execution_count": 9,
   "metadata": {},
   "outputs": [
    {
     "data": {
      "text/plain": [
       "Text(0.5, 1.0, 'Annual_Expense distribution')"
      ]
     },
     "execution_count": 9,
     "metadata": {},
     "output_type": "execute_result"
    },
    {
     "data": {
      "image/png": "[encoded data removed]",
      "text/plain": [
       "<Figure size 864x360 with 1 Axes>"
      ]
     },
     "metadata": {},
     "output_type": "display_data"
    }
   ],
   "source": [
    "plt.figure(figsize = (12, 5))\n",
    "sns.distplot(Expense.Annual_Expense)\n",
    "plt.title(\"Annual_Expense distribution\")"
   ]
  },
  {
   "cell_type": "code",
   "execution_count": 10,
   "metadata": {},
   "outputs": [
    {
     "data": {
      "text/plain": [
       "Text(0.5, 1.0, 'Annual_balance distribution')"
      ]
     },
     "execution_count": 10,
     "metadata": {},
     "output_type": "execute_result"
    },
    {
     "data": {
      "image/png": "[encoded data removed]",
      "text/plain": [
       "<Figure size 864x360 with 1 Axes>"
      ]
     },
     "metadata": {},
     "output_type": "display_data"
    }
   ],
   "source": [
    "plt.figure(figsize = (12, 5))\n",
    "sns.distplot(Balance.Annual_balance)\n",
    "plt.title(\"Annual_balance distribution\")"
   ]
  },
  {
   "cell_type": "markdown",
   "metadata": {},
   "source": [
    "# Adding age and gender to the newly created data"
   ]
  },
  {
   "cell_type": "code",
   "execution_count": 11,
   "metadata": {},
   "outputs": [
    {
     "data": {
      "text/html": [
       "<div>\n",
       "<style scoped>\n",
       "    .dataframe tbody tr th:only-of-type {\n",
       "        vertical-align: middle;\n",
       "    }\n",
       "\n",
       "    .dataframe tbody tr th {\n",
       "        vertical-align: top;\n",
       "    }\n",
       "\n",
       "    .dataframe thead th {\n",
       "        text-align: right;\n",
       "    }\n",
       "</style>\n",
       "<table border=\"1\" class=\"dataframe\">\n",
       "  <thead>\n",
       "    <tr style=\"text-align: right;\">\n",
       "      <th></th>\n",
       "      <th>customer_id</th>\n",
       "      <th>amount</th>\n",
       "      <th>Annual_Salary</th>\n",
       "      <th>age</th>\n",
       "      <th>gender</th>\n",
       "    </tr>\n",
       "  </thead>\n",
       "  <tbody>\n",
       "    <tr>\n",
       "      <th>0</th>\n",
       "      <td>CUS-1005756958</td>\n",
       "      <td>12616.11</td>\n",
       "      <td>50464.44</td>\n",
       "      <td>53</td>\n",
       "      <td>F</td>\n",
       "    </tr>\n",
       "    <tr>\n",
       "      <th>73</th>\n",
       "      <td>CUS-1117979751</td>\n",
       "      <td>25050.55</td>\n",
       "      <td>100202.20</td>\n",
       "      <td>21</td>\n",
       "      <td>M</td>\n",
       "    </tr>\n",
       "    <tr>\n",
       "      <th>173</th>\n",
       "      <td>CUS-1140341822</td>\n",
       "      <td>11499.06</td>\n",
       "      <td>45996.24</td>\n",
       "      <td>28</td>\n",
       "      <td>M</td>\n",
       "    </tr>\n",
       "    <tr>\n",
       "      <th>253</th>\n",
       "      <td>CUS-1147642491</td>\n",
       "      <td>22248.07</td>\n",
       "      <td>88992.28</td>\n",
       "      <td>34</td>\n",
       "      <td>F</td>\n",
       "    </tr>\n",
       "    <tr>\n",
       "      <th>371</th>\n",
       "      <td>CUS-1196156254</td>\n",
       "      <td>27326.11</td>\n",
       "      <td>109304.44</td>\n",
       "      <td>34</td>\n",
       "      <td>F</td>\n",
       "    </tr>\n",
       "  </tbody>\n",
       "</table>\n",
       "</div>"
      ],
      "text/plain": [
       "        customer_id    amount  Annual_Salary  age gender\n",
       "0    CUS-1005756958  12616.11       50464.44   53      F\n",
       "73   CUS-1117979751  25050.55      100202.20   21      M\n",
       "173  CUS-1140341822  11499.06       45996.24   28      M\n",
       "253  CUS-1147642491  22248.07       88992.28   34      F\n",
       "371  CUS-1196156254  27326.11      109304.44   34      F"
      ]
     },
     "execution_count": 11,
     "metadata": {},
     "output_type": "execute_result"
    }
   ],
   "source": [
    "Salary = pd.merge(Salary,data[['customer_id','age','gender']],on='customer_id', how='left')\n",
    "Salary.drop_duplicates(inplace=True)\n",
    "Salary.head()"
   ]
  },
  {
   "cell_type": "markdown",
   "metadata": {},
   "source": [
    "# Adding balance data to salary data"
   ]
  },
  {
   "cell_type": "code",
   "execution_count": 12,
   "metadata": {},
   "outputs": [
    {
     "data": {
      "text/html": [
       "<div>\n",
       "<style scoped>\n",
       "    .dataframe tbody tr th:only-of-type {\n",
       "        vertical-align: middle;\n",
       "    }\n",
       "\n",
       "    .dataframe tbody tr th {\n",
       "        vertical-align: top;\n",
       "    }\n",
       "\n",
       "    .dataframe thead th {\n",
       "        text-align: right;\n",
       "    }\n",
       "</style>\n",
       "<table border=\"1\" class=\"dataframe\">\n",
       "  <thead>\n",
       "    <tr style=\"text-align: right;\">\n",
       "      <th></th>\n",
       "      <th>customer_id</th>\n",
       "      <th>amount</th>\n",
       "      <th>Annual_Salary</th>\n",
       "      <th>age</th>\n",
       "      <th>gender</th>\n",
       "      <th>balance</th>\n",
       "      <th>Annual_balance</th>\n",
       "    </tr>\n",
       "  </thead>\n",
       "  <tbody>\n",
       "    <tr>\n",
       "      <th>0</th>\n",
       "      <td>CUS-1005756958</td>\n",
       "      <td>12616.11</td>\n",
       "      <td>50464.44</td>\n",
       "      <td>53</td>\n",
       "      <td>F</td>\n",
       "      <td>61342.65</td>\n",
       "      <td>245370.60</td>\n",
       "    </tr>\n",
       "    <tr>\n",
       "      <th>1</th>\n",
       "      <td>CUS-1117979751</td>\n",
       "      <td>25050.55</td>\n",
       "      <td>100202.20</td>\n",
       "      <td>21</td>\n",
       "      <td>M</td>\n",
       "      <td>83700.42</td>\n",
       "      <td>334801.68</td>\n",
       "    </tr>\n",
       "    <tr>\n",
       "      <th>2</th>\n",
       "      <td>CUS-1140341822</td>\n",
       "      <td>11499.06</td>\n",
       "      <td>45996.24</td>\n",
       "      <td>28</td>\n",
       "      <td>M</td>\n",
       "      <td>35050.32</td>\n",
       "      <td>140201.28</td>\n",
       "    </tr>\n",
       "    <tr>\n",
       "      <th>3</th>\n",
       "      <td>CUS-1147642491</td>\n",
       "      <td>22248.07</td>\n",
       "      <td>88992.28</td>\n",
       "      <td>34</td>\n",
       "      <td>F</td>\n",
       "      <td>114575.08</td>\n",
       "      <td>458300.32</td>\n",
       "    </tr>\n",
       "    <tr>\n",
       "      <th>4</th>\n",
       "      <td>CUS-1196156254</td>\n",
       "      <td>27326.11</td>\n",
       "      <td>109304.44</td>\n",
       "      <td>34</td>\n",
       "      <td>F</td>\n",
       "      <td>166920.02</td>\n",
       "      <td>667680.08</td>\n",
       "    </tr>\n",
       "  </tbody>\n",
       "</table>\n",
       "</div>"
      ],
      "text/plain": [
       "      customer_id    amount  Annual_Salary  age gender    balance  \\\n",
       "0  CUS-1005756958  12616.11       50464.44   53      F   61342.65   \n",
       "1  CUS-1117979751  25050.55      100202.20   21      M   83700.42   \n",
       "2  CUS-1140341822  11499.06       45996.24   28      M   35050.32   \n",
       "3  CUS-1147642491  22248.07       88992.28   34      F  114575.08   \n",
       "4  CUS-1196156254  27326.11      109304.44   34      F  166920.02   \n",
       "\n",
       "   Annual_balance  \n",
       "0       245370.60  \n",
       "1       334801.68  \n",
       "2       140201.28  \n",
       "3       458300.32  \n",
       "4       667680.08  "
      ]
     },
     "execution_count": 12,
     "metadata": {},
     "output_type": "execute_result"
    }
   ],
   "source": [
    "Salary = pd.merge(Salary,Balance,on='customer_id', how='left')\n",
    "Salary.drop_duplicates(inplace=True)\n",
    "Salary.head()"
   ]
  },
  {
   "cell_type": "markdown",
   "metadata": {},
   "source": [
    "# Adding Expense data to salary data\n"
   ]
  },
  {
   "cell_type": "code",
   "execution_count": 13,
   "metadata": {},
   "outputs": [
    {
     "data": {
      "text/html": [
       "<div>\n",
       "<style scoped>\n",
       "    .dataframe tbody tr th:only-of-type {\n",
       "        vertical-align: middle;\n",
       "    }\n",
       "\n",
       "    .dataframe tbody tr th {\n",
       "        vertical-align: top;\n",
       "    }\n",
       "\n",
       "    .dataframe thead th {\n",
       "        text-align: right;\n",
       "    }\n",
       "</style>\n",
       "<table border=\"1\" class=\"dataframe\">\n",
       "  <thead>\n",
       "    <tr style=\"text-align: right;\">\n",
       "      <th></th>\n",
       "      <th>customer_id</th>\n",
       "      <th>amount_x</th>\n",
       "      <th>Annual_Salary</th>\n",
       "      <th>age</th>\n",
       "      <th>gender</th>\n",
       "      <th>balance</th>\n",
       "      <th>Annual_balance</th>\n",
       "      <th>amount_y</th>\n",
       "      <th>Annual_Expense</th>\n",
       "    </tr>\n",
       "  </thead>\n",
       "  <tbody>\n",
       "    <tr>\n",
       "      <th>0</th>\n",
       "      <td>CUS-1005756958</td>\n",
       "      <td>12616.11</td>\n",
       "      <td>50464.44</td>\n",
       "      <td>53</td>\n",
       "      <td>F</td>\n",
       "      <td>61342.65</td>\n",
       "      <td>245370.60</td>\n",
       "      <td>3652.86</td>\n",
       "      <td>14611.0</td>\n",
       "    </tr>\n",
       "    <tr>\n",
       "      <th>1</th>\n",
       "      <td>CUS-1117979751</td>\n",
       "      <td>25050.55</td>\n",
       "      <td>100202.20</td>\n",
       "      <td>21</td>\n",
       "      <td>M</td>\n",
       "      <td>83700.42</td>\n",
       "      <td>334801.68</td>\n",
       "      <td>8933.82</td>\n",
       "      <td>35735.0</td>\n",
       "    </tr>\n",
       "    <tr>\n",
       "      <th>2</th>\n",
       "      <td>CUS-1140341822</td>\n",
       "      <td>11499.06</td>\n",
       "      <td>45996.24</td>\n",
       "      <td>28</td>\n",
       "      <td>M</td>\n",
       "      <td>35050.32</td>\n",
       "      <td>140201.28</td>\n",
       "      <td>5511.54</td>\n",
       "      <td>22046.0</td>\n",
       "    </tr>\n",
       "    <tr>\n",
       "      <th>3</th>\n",
       "      <td>CUS-1147642491</td>\n",
       "      <td>22248.07</td>\n",
       "      <td>88992.28</td>\n",
       "      <td>34</td>\n",
       "      <td>F</td>\n",
       "      <td>114575.08</td>\n",
       "      <td>458300.32</td>\n",
       "      <td>6732.75</td>\n",
       "      <td>26931.0</td>\n",
       "    </tr>\n",
       "    <tr>\n",
       "      <th>4</th>\n",
       "      <td>CUS-1196156254</td>\n",
       "      <td>27326.11</td>\n",
       "      <td>109304.44</td>\n",
       "      <td>34</td>\n",
       "      <td>F</td>\n",
       "      <td>166920.02</td>\n",
       "      <td>667680.08</td>\n",
       "      <td>8724.61</td>\n",
       "      <td>34898.0</td>\n",
       "    </tr>\n",
       "  </tbody>\n",
       "</table>\n",
       "</div>"
      ],
      "text/plain": [
       "      customer_id  amount_x  Annual_Salary  age gender    balance  \\\n",
       "0  CUS-1005756958  12616.11       50464.44   53      F   61342.65   \n",
       "1  CUS-1117979751  25050.55      100202.20   21      M   83700.42   \n",
       "2  CUS-1140341822  11499.06       45996.24   28      M   35050.32   \n",
       "3  CUS-1147642491  22248.07       88992.28   34      F  114575.08   \n",
       "4  CUS-1196156254  27326.11      109304.44   34      F  166920.02   \n",
       "\n",
       "   Annual_balance  amount_y  Annual_Expense  \n",
       "0       245370.60   3652.86         14611.0  \n",
       "1       334801.68   8933.82         35735.0  \n",
       "2       140201.28   5511.54         22046.0  \n",
       "3       458300.32   6732.75         26931.0  \n",
       "4       667680.08   8724.61         34898.0  "
      ]
     },
     "execution_count": 13,
     "metadata": {},
     "output_type": "execute_result"
    }
   ],
   "source": [
    "Salary = pd.merge(Salary,Expense,on='customer_id', how='left')\n",
    "Salary.drop_duplicates(inplace=True)\n",
    "Salary.head()"
   ]
  },
  {
   "cell_type": "markdown",
   "metadata": {},
   "source": [
    "# Scatter plot to check relationship of annual salary with other factors"
   ]
  },
  {
   "cell_type": "code",
   "execution_count": 14,
   "metadata": {},
   "outputs": [
    {
     "data": {
      "image/png": "[encoded data removed]",
      "text/plain": [
       "<Figure size 432x288 with 1 Axes>"
      ]
     },
     "metadata": {},
     "output_type": "display_data"
    }
   ],
   "source": [
    "sns.scatterplot(x= 'age', y= 'Annual_Salary',  hue='gender',\n",
    "               data=Salary,\n",
    "               palette=['purple', '#55CCCC']);"
   ]
  },
  {
   "cell_type": "code",
   "execution_count": 15,
   "metadata": {},
   "outputs": [
    {
     "data": {
      "image/png": "[encoded data removed]",
      "text/plain": [
       "<Figure size 432x288 with 1 Axes>"
      ]
     },
     "metadata": {},
     "output_type": "display_data"
    }
   ],
   "source": [
    "sns.scatterplot(x= 'age', y= 'Annual_balance', hue='gender',\n",
    "               data=Salary,\n",
    "               palette=['purple', '#55CCCC']);"
   ]
  },
  {
   "cell_type": "markdown",
   "metadata": {},
   "source": [
    "# Dropping columns to avoid correlation"
   ]
  },
  {
   "cell_type": "markdown",
   "metadata": {},
   "source": [
    "Since annual_expense, annual_salary and annual_ balance were calculated from the data, the originals need to be deleted to avoid correlation, which disturbs the data."
   ]
  },
  {
   "cell_type": "code",
   "execution_count": 16,
   "metadata": {},
   "outputs": [],
   "source": [
    "Salary.drop(columns =['customer_id','amount_x','amount_y','balance'], inplace= True)"
   ]
  },
  {
   "cell_type": "markdown",
   "metadata": {},
   "source": [
    "# Checking Correlation"
   ]
  },
  {
   "cell_type": "code",
   "execution_count": 17,
   "metadata": {},
   "outputs": [
    {
     "data": {
      "text/html": [
       "<div>\n",
       "<style scoped>\n",
       "    .dataframe tbody tr th:only-of-type {\n",
       "        vertical-align: middle;\n",
       "    }\n",
       "\n",
       "    .dataframe tbody tr th {\n",
       "        vertical-align: top;\n",
       "    }\n",
       "\n",
       "    .dataframe thead th {\n",
       "        text-align: right;\n",
       "    }\n",
       "</style>\n",
       "<table border=\"1\" class=\"dataframe\">\n",
       "  <thead>\n",
       "    <tr style=\"text-align: right;\">\n",
       "      <th></th>\n",
       "      <th>Annual_Salary</th>\n",
       "      <th>age</th>\n",
       "      <th>Annual_balance</th>\n",
       "      <th>Annual_Expense</th>\n",
       "    </tr>\n",
       "  </thead>\n",
       "  <tbody>\n",
       "    <tr>\n",
       "      <th>Annual_Salary</th>\n",
       "      <td>1.000000</td>\n",
       "      <td>-0.036504</td>\n",
       "      <td>0.217715</td>\n",
       "      <td>0.373476</td>\n",
       "    </tr>\n",
       "    <tr>\n",
       "      <th>age</th>\n",
       "      <td>-0.036504</td>\n",
       "      <td>1.000000</td>\n",
       "      <td>0.289224</td>\n",
       "      <td>-0.086174</td>\n",
       "    </tr>\n",
       "    <tr>\n",
       "      <th>Annual_balance</th>\n",
       "      <td>0.217715</td>\n",
       "      <td>0.289224</td>\n",
       "      <td>1.000000</td>\n",
       "      <td>0.004943</td>\n",
       "    </tr>\n",
       "    <tr>\n",
       "      <th>Annual_Expense</th>\n",
       "      <td>0.373476</td>\n",
       "      <td>-0.086174</td>\n",
       "      <td>0.004943</td>\n",
       "      <td>1.000000</td>\n",
       "    </tr>\n",
       "  </tbody>\n",
       "</table>\n",
       "</div>"
      ],
      "text/plain": [
       "                Annual_Salary       age  Annual_balance  Annual_Expense\n",
       "Annual_Salary        1.000000 -0.036504        0.217715        0.373476\n",
       "age                 -0.036504  1.000000        0.289224       -0.086174\n",
       "Annual_balance       0.217715  0.289224        1.000000        0.004943\n",
       "Annual_Expense       0.373476 -0.086174        0.004943        1.000000"
      ]
     },
     "execution_count": 17,
     "metadata": {},
     "output_type": "execute_result"
    }
   ],
   "source": [
    "Salary.corr()"
   ]
  },
  {
   "cell_type": "markdown",
   "metadata": {},
   "source": [
    "The data looks good with low correlation."
   ]
  },
  {
   "cell_type": "code",
   "execution_count": 18,
   "metadata": {},
   "outputs": [
    {
     "name": "stdout",
     "output_type": "stream",
     "text": [
      "<class 'pandas.core.frame.DataFrame'>\n",
      "Int64Index: 100 entries, 0 to 99\n",
      "Data columns (total 5 columns):\n",
      " #   Column          Non-Null Count  Dtype  \n",
      "---  ------          --------------  -----  \n",
      " 0   Annual_Salary   100 non-null    float64\n",
      " 1   age             100 non-null    int64  \n",
      " 2   gender          100 non-null    object \n",
      " 3   Annual_balance  100 non-null    float64\n",
      " 4   Annual_Expense  100 non-null    float64\n",
      "dtypes: float64(3), int64(1), object(1)\n",
      "memory usage: 4.7+ KB\n"
     ]
    }
   ],
   "source": [
    "Salary.info()"
   ]
  },
  {
   "cell_type": "markdown",
   "metadata": {},
   "source": [
    "# Encoding gender for the model"
   ]
  },
  {
   "cell_type": "code",
   "execution_count": 19,
   "metadata": {},
   "outputs": [],
   "source": [
    "Salary.replace({'gender':{'M':0, 'F':1}}, inplace=True)"
   ]
  },
  {
   "cell_type": "code",
   "execution_count": 20,
   "metadata": {},
   "outputs": [
    {
     "data": {
      "text/html": [
       "<div>\n",
       "<style scoped>\n",
       "    .dataframe tbody tr th:only-of-type {\n",
       "        vertical-align: middle;\n",
       "    }\n",
       "\n",
       "    .dataframe tbody tr th {\n",
       "        vertical-align: top;\n",
       "    }\n",
       "\n",
       "    .dataframe thead th {\n",
       "        text-align: right;\n",
       "    }\n",
       "</style>\n",
       "<table border=\"1\" class=\"dataframe\">\n",
       "  <thead>\n",
       "    <tr style=\"text-align: right;\">\n",
       "      <th></th>\n",
       "      <th>Annual_Salary</th>\n",
       "      <th>age</th>\n",
       "      <th>gender</th>\n",
       "      <th>Annual_balance</th>\n",
       "      <th>Annual_Expense</th>\n",
       "    </tr>\n",
       "  </thead>\n",
       "  <tbody>\n",
       "    <tr>\n",
       "      <th>0</th>\n",
       "      <td>50464.44</td>\n",
       "      <td>53</td>\n",
       "      <td>1</td>\n",
       "      <td>245370.60</td>\n",
       "      <td>14611.0</td>\n",
       "    </tr>\n",
       "    <tr>\n",
       "      <th>1</th>\n",
       "      <td>100202.20</td>\n",
       "      <td>21</td>\n",
       "      <td>0</td>\n",
       "      <td>334801.68</td>\n",
       "      <td>35735.0</td>\n",
       "    </tr>\n",
       "    <tr>\n",
       "      <th>2</th>\n",
       "      <td>45996.24</td>\n",
       "      <td>28</td>\n",
       "      <td>0</td>\n",
       "      <td>140201.28</td>\n",
       "      <td>22046.0</td>\n",
       "    </tr>\n",
       "    <tr>\n",
       "      <th>3</th>\n",
       "      <td>88992.28</td>\n",
       "      <td>34</td>\n",
       "      <td>1</td>\n",
       "      <td>458300.32</td>\n",
       "      <td>26931.0</td>\n",
       "    </tr>\n",
       "    <tr>\n",
       "      <th>4</th>\n",
       "      <td>109304.44</td>\n",
       "      <td>34</td>\n",
       "      <td>1</td>\n",
       "      <td>667680.08</td>\n",
       "      <td>34898.0</td>\n",
       "    </tr>\n",
       "  </tbody>\n",
       "</table>\n",
       "</div>"
      ],
      "text/plain": [
       "   Annual_Salary  age  gender  Annual_balance  Annual_Expense\n",
       "0       50464.44   53       1       245370.60         14611.0\n",
       "1      100202.20   21       0       334801.68         35735.0\n",
       "2       45996.24   28       0       140201.28         22046.0\n",
       "3       88992.28   34       1       458300.32         26931.0\n",
       "4      109304.44   34       1       667680.08         34898.0"
      ]
     },
     "execution_count": 20,
     "metadata": {},
     "output_type": "execute_result"
    }
   ],
   "source": [
    "Salary.head()"
   ]
  },
  {
   "cell_type": "code",
   "execution_count": 21,
   "metadata": {},
   "outputs": [
    {
     "name": "stdout",
     "output_type": "stream",
     "text": [
      "<class 'pandas.core.frame.DataFrame'>\n",
      "Int64Index: 100 entries, 0 to 99\n",
      "Data columns (total 5 columns):\n",
      " #   Column          Non-Null Count  Dtype  \n",
      "---  ------          --------------  -----  \n",
      " 0   Annual_Salary   100 non-null    float64\n",
      " 1   age             100 non-null    int64  \n",
      " 2   gender          100 non-null    int64  \n",
      " 3   Annual_balance  100 non-null    float64\n",
      " 4   Annual_Expense  100 non-null    float64\n",
      "dtypes: float64(3), int64(2)\n",
      "memory usage: 4.7 KB\n"
     ]
    }
   ],
   "source": [
    "Salary.info()"
   ]
  },
  {
   "cell_type": "markdown",
   "metadata": {},
   "source": [
    "# Linear regression"
   ]
  },
  {
   "cell_type": "code",
   "execution_count": 22,
   "metadata": {},
   "outputs": [],
   "source": [
    "x = Salary.drop('Annual_Salary', axis='columns')\n",
    "y = Salary['Annual_Salary']"
   ]
  },
  {
   "cell_type": "code",
   "execution_count": 23,
   "metadata": {},
   "outputs": [],
   "source": [
    "#initialize the linear regression model\n",
    "reg = linear_model.LinearRegression()"
   ]
  },
  {
   "cell_type": "code",
   "execution_count": 24,
   "metadata": {},
   "outputs": [],
   "source": [
    "#split the data into 70% training and 33% testing data\n",
    "x_train, x_test, y_train, y_test = train_test_split(x,y, test_size=0.3,random_state=7)"
   ]
  },
  {
   "cell_type": "code",
   "execution_count": 25,
   "metadata": {},
   "outputs": [
    {
     "data": {
      "text/plain": [
       "LinearRegression()"
      ]
     },
     "execution_count": 25,
     "metadata": {},
     "output_type": "execute_result"
    }
   ],
   "source": [
    "#train the model\n",
    "reg.fit(x_train, y_train)"
   ]
  },
  {
   "cell_type": "code",
   "execution_count": 26,
   "metadata": {},
   "outputs": [
    {
     "name": "stdout",
     "output_type": "stream",
     "text": [
      "[-2.19854918e+02 -6.48318977e+03  2.98116645e-03  8.77244212e-01]\n"
     ]
    }
   ],
   "source": [
    "#print the coefficients/weights for each feature/column of our model\n",
    "print(reg.coef_)"
   ]
  },
  {
   "cell_type": "code",
   "execution_count": 27,
   "metadata": {},
   "outputs": [
    {
     "name": "stdout",
     "output_type": "stream",
     "text": [
      "[66169.19169724 73238.40211713 67870.27501132 82291.76186991\n",
      " 58072.28717047 57881.30249614 69273.848425   57906.52412443\n",
      " 67626.99063696 75146.47780136 77691.48793814 64701.99935085\n",
      " 65233.22702172 71287.20044825 62880.56730551 62093.20570703\n",
      " 56473.86099449 61340.18090376 75227.34041441 68533.01201869\n",
      " 71981.90139555 69816.96105343 78150.49074116 54270.48300657\n",
      " 61215.4763544  75355.54099638 54143.23057573 73745.14836421\n",
      " 76595.7599782  64676.66144648]\n"
     ]
    }
   ],
   "source": [
    "y_pred = reg.predict(x_test)\n",
    "print(y_pred)"
   ]
  },
  {
   "cell_type": "code",
   "execution_count": 28,
   "metadata": {},
   "outputs": [
    {
     "name": "stdout",
     "output_type": "stream",
     "text": [
      "37    127048.48\n",
      "26     85991.92\n",
      "78     36904.32\n",
      "91    118049.12\n",
      "49     39128.64\n",
      "15     59290.80\n",
      "93     85109.44\n",
      "71     44235.36\n",
      "86     51508.60\n",
      "22     61538.96\n",
      "13    109310.60\n",
      "40     53249.52\n",
      "52     44873.40\n",
      "12     39426.24\n",
      "88     39287.20\n",
      "45     39379.92\n",
      "11     58414.72\n",
      "66     44004.00\n",
      "20     78147.44\n",
      "18     46388.68\n",
      "50    123348.40\n",
      "2      45996.24\n",
      "17     68513.76\n",
      "85     44550.72\n",
      "5      63906.08\n",
      "97     43406.88\n",
      "51     44194.08\n",
      "30     55408.08\n",
      "74     55111.68\n",
      "96     53927.64\n",
      "Name: Annual_Salary, dtype: float64\n"
     ]
    }
   ],
   "source": [
    "#print the actual values\n",
    "print(y_test)"
   ]
  },
  {
   "cell_type": "code",
   "execution_count": 29,
   "metadata": {},
   "outputs": [
    {
     "data": {
      "text/plain": [
       "0.1741029921866516"
      ]
     },
     "execution_count": 29,
     "metadata": {},
     "output_type": "execute_result"
    }
   ],
   "source": [
    "reg.score(x_train,y_train)"
   ]
  },
  {
   "cell_type": "code",
   "execution_count": 30,
   "metadata": {},
   "outputs": [
    {
     "data": {
      "image/png": "[encoded data removed]",
      "text/plain": [
       "<Figure size 432x288 with 1 Axes>"
      ]
     },
     "metadata": {},
     "output_type": "display_data"
    }
   ],
   "source": [
    "fig, ax = plt.subplots()\n",
    "ax.scatter(y_test, y_pred, edgecolors=(0, 0, 0))\n",
    "ax.plot([y_test.min(), y_test.max()], [y_test.min(), y_test.max()], 'k--', lw=4)\n",
    "ax.set_xlabel('Actual')\n",
    "ax.set_ylabel('Predicted')\n",
    "ax.set_title(\"Linear Reagression\")\n",
    "plt.show()"
   ]
  },
  {
   "cell_type": "markdown",
   "metadata": {},
   "source": [
    "The linear regression model accuracy was 17.4%"
   ]
  },
  {
   "cell_type": "markdown",
   "metadata": {},
   "source": [
    "# DECISION TREE"
   ]
  },
  {
   "cell_type": "code",
   "execution_count": 31,
   "metadata": {},
   "outputs": [],
   "source": [
    "x = Salary.drop('Annual_Salary', axis='columns')\n",
    "y = Salary['Annual_Salary']"
   ]
  },
  {
   "cell_type": "code",
   "execution_count": 32,
   "metadata": {},
   "outputs": [],
   "source": [
    "x_train, x_test, y_train, y_test = train_test_split(x,y, test_size=0.3,random_state=7)"
   ]
  },
  {
   "cell_type": "code",
   "execution_count": 33,
   "metadata": {},
   "outputs": [],
   "source": [
    "dt = DecisionTreeRegressor(max_depth=4,min_samples_leaf=0.1,random_state=7)"
   ]
  },
  {
   "cell_type": "code",
   "execution_count": 34,
   "metadata": {},
   "outputs": [
    {
     "data": {
      "text/plain": [
       "DecisionTreeRegressor(max_depth=4, min_samples_leaf=0.1, random_state=7)"
      ]
     },
     "execution_count": 34,
     "metadata": {},
     "output_type": "execute_result"
    }
   ],
   "source": [
    "dt.fit(x_train, y_train)"
   ]
  },
  {
   "cell_type": "code",
   "execution_count": 35,
   "metadata": {},
   "outputs": [
    {
     "name": "stdout",
     "output_type": "stream",
     "text": [
      "[ 76408.79428571  96712.74285714  52270.156       96712.74285714\n",
      "  52270.156       96712.74285714  76408.79428571  44048.15076923\n",
      "  64360.90153846  76408.79428571  76408.79428571  44048.15076923\n",
      "  70733.33333333  52270.156       52270.156       44048.15076923\n",
      "  64360.90153846  44048.15076923 106748.31        70733.33333333\n",
      "  76408.79428571  52270.156       76408.79428571  44048.15076923\n",
      "  70733.33333333  52270.156       64360.90153846  70733.33333333\n",
      "  70733.33333333  70733.33333333]\n"
     ]
    }
   ],
   "source": [
    "y_pred = dt.predict(x_test)\n",
    "print(y_pred)"
   ]
  },
  {
   "cell_type": "code",
   "execution_count": 36,
   "metadata": {},
   "outputs": [
    {
     "name": "stdout",
     "output_type": "stream",
     "text": [
      "37    127048.48\n",
      "26     85991.92\n",
      "78     36904.32\n",
      "91    118049.12\n",
      "49     39128.64\n",
      "15     59290.80\n",
      "93     85109.44\n",
      "71     44235.36\n",
      "86     51508.60\n",
      "22     61538.96\n",
      "13    109310.60\n",
      "40     53249.52\n",
      "52     44873.40\n",
      "12     39426.24\n",
      "88     39287.20\n",
      "45     39379.92\n",
      "11     58414.72\n",
      "66     44004.00\n",
      "20     78147.44\n",
      "18     46388.68\n",
      "50    123348.40\n",
      "2      45996.24\n",
      "17     68513.76\n",
      "85     44550.72\n",
      "5      63906.08\n",
      "97     43406.88\n",
      "51     44194.08\n",
      "30     55408.08\n",
      "74     55111.68\n",
      "96     53927.64\n",
      "Name: Annual_Salary, dtype: float64\n"
     ]
    }
   ],
   "source": [
    "print(y_test)"
   ]
  },
  {
   "cell_type": "code",
   "execution_count": 37,
   "metadata": {},
   "outputs": [
    {
     "data": {
      "text/plain": [
       "0.5600863941994056"
      ]
     },
     "execution_count": 37,
     "metadata": {},
     "output_type": "execute_result"
    }
   ],
   "source": [
    "dt.score(x_train,y_train)"
   ]
  },
  {
   "cell_type": "code",
   "execution_count": 38,
   "metadata": {},
   "outputs": [],
   "source": [
    "mse_dt = MSE(y_test, y_pred)"
   ]
  },
  {
   "cell_type": "code",
   "execution_count": 39,
   "metadata": {},
   "outputs": [],
   "source": [
    "rmse_dt = mse_dt**(1/2)"
   ]
  },
  {
   "cell_type": "code",
   "execution_count": 40,
   "metadata": {},
   "outputs": [
    {
     "name": "stdout",
     "output_type": "stream",
     "text": [
      "20527.66015449029\n"
     ]
    }
   ],
   "source": [
    "print(rmse_dt)"
   ]
  },
  {
   "cell_type": "code",
   "execution_count": 41,
   "metadata": {},
   "outputs": [
    {
     "data": {
      "image/png": "[encoded data removed]",
      "text/plain": [
       "<Figure size 432x288 with 1 Axes>"
      ]
     },
     "metadata": {},
     "output_type": "display_data"
    }
   ],
   "source": [
    "fig, ax = plt.subplots()\n",
    "ax.scatter(y_test, y_pred, edgecolors=(0, 0, 0))\n",
    "ax.plot([y_test.min(), y_test.max()], [y_test.min(), y_test.max()], 'k--', lw=4)\n",
    "ax.set_xlabel('Actual')\n",
    "ax.set_ylabel('Predicted')\n",
    "ax.set_title(\"Decision Tree Regression\")\n",
    "plt.show()"
   ]
  },
  {
   "cell_type": "markdown",
   "metadata": {},
   "source": [
    "The DecisionTreeRegression gave 56% accuracy."
   ]
  },
  {
   "cell_type": "markdown",
   "metadata": {},
   "source": [
    "# RANDOM FOREST REGRESSION"
   ]
  },
  {
   "cell_type": "code",
   "execution_count": 42,
   "metadata": {},
   "outputs": [],
   "source": [
    "x = Salary.drop('Annual_Salary', axis='columns')\n",
    "y = Salary['Annual_Salary']"
   ]
  },
  {
   "cell_type": "code",
   "execution_count": 43,
   "metadata": {},
   "outputs": [],
   "source": [
    "#split the data into 80% training and 20% testing data\n",
    "x_train, x_test, y_train, y_test = train_test_split(x,y, test_size=0.2,random_state=0)"
   ]
  },
  {
   "cell_type": "code",
   "execution_count": 44,
   "metadata": {},
   "outputs": [],
   "source": [
    "from sklearn.ensemble import RandomForestRegressor"
   ]
  },
  {
   "cell_type": "code",
   "execution_count": 45,
   "metadata": {},
   "outputs": [],
   "source": [
    "regressor = RandomForestRegressor(n_estimators = 100, random_state = 0)"
   ]
  },
  {
   "cell_type": "code",
   "execution_count": 46,
   "metadata": {},
   "outputs": [
    {
     "data": {
      "text/plain": [
       "RandomForestRegressor(random_state=0)"
      ]
     },
     "execution_count": 46,
     "metadata": {},
     "output_type": "execute_result"
    }
   ],
   "source": [
    "regressor.fit(x, y)"
   ]
  },
  {
   "cell_type": "code",
   "execution_count": 47,
   "metadata": {},
   "outputs": [
    {
     "data": {
      "text/plain": [
       "0.9222244645931843"
      ]
     },
     "execution_count": 47,
     "metadata": {},
     "output_type": "execute_result"
    }
   ],
   "source": [
    "regressor.score(x,y)"
   ]
  },
  {
   "cell_type": "code",
   "execution_count": 48,
   "metadata": {},
   "outputs": [
    {
     "name": "stdout",
     "output_type": "stream",
     "text": [
      "[ 89657.6676  61993.3848  46529.0816  52856.8484  46945.782   88732.6472\n",
      "  55979.0896 104634.2156  53462.1136  38523.5824 105088.9096  67408.4716\n",
      "  42576.6264  99059.1748  72813.76    57378.4472  69883.0432  62503.4268\n",
      "  84304.736   64517.1376]\n"
     ]
    }
   ],
   "source": [
    "y_pred = regressor.predict(x_test)\n",
    "print(y_pred)"
   ]
  },
  {
   "cell_type": "code",
   "execution_count": 49,
   "metadata": {},
   "outputs": [
    {
     "data": {
      "text/plain": [
       "26     85991.92\n",
       "86     51508.60\n",
       "2      45996.24\n",
       "55     47707.40\n",
       "75     42187.44\n",
       "93     85109.44\n",
       "16     60000.00\n",
       "73    115702.44\n",
       "54     55687.20\n",
       "95     34815.36\n",
       "53     97314.48\n",
       "92     72041.48\n",
       "78     36904.32\n",
       "13    109310.60\n",
       "7      64856.40\n",
       "30     55408.08\n",
       "22     61538.96\n",
       "24     63717.16\n",
       "33     81130.40\n",
       "8      59217.08\n",
       "Name: Annual_Salary, dtype: float64"
      ]
     },
     "execution_count": 49,
     "metadata": {},
     "output_type": "execute_result"
    }
   ],
   "source": [
    "y_test"
   ]
  },
  {
   "cell_type": "code",
   "execution_count": 50,
   "metadata": {},
   "outputs": [],
   "source": [
    "mse_regression = MSE(y_test, y_pred)"
   ]
  },
  {
   "cell_type": "code",
   "execution_count": 51,
   "metadata": {},
   "outputs": [],
   "source": [
    "rmse_regression = mse_regression**(1/2)"
   ]
  },
  {
   "cell_type": "code",
   "execution_count": 52,
   "metadata": {},
   "outputs": [
    {
     "name": "stdout",
     "output_type": "stream",
     "text": [
      "6078.457694220782\n"
     ]
    }
   ],
   "source": [
    "print(rmse_regression)"
   ]
  },
  {
   "cell_type": "code",
   "execution_count": 53,
   "metadata": {},
   "outputs": [
    {
     "data": {
      "image/png": "[encoded data removed]",
      "text/plain": [
       "<Figure size 432x288 with 1 Axes>"
      ]
     },
     "metadata": {},
     "output_type": "display_data"
    }
   ],
   "source": [
    "fig, ax = plt.subplots()\n",
    "ax.scatter(y_test, y_pred, edgecolors=(0, 0, 0))\n",
    "ax.plot([y_test.min(), y_test.max()], [y_test.min(), y_test.max()], 'k--', lw=4)\n",
    "ax.set_xlabel('Actual')\n",
    "ax.set_ylabel('Predicted')\n",
    "ax.set_title(\"Random Forest Regression\")\n",
    "plt.show()"
   ]
  },
  {
   "cell_type": "markdown",
   "metadata": {},
   "source": [
    "The Random Forest Regression gave 92.2% accuracy."
   ]
  },
  {
   "cell_type": "markdown",
   "metadata": {},
   "source": [
    "# PREDICTIVE MODEL"
   ]
  },
  {
   "cell_type": "code",
   "execution_count": 54,
   "metadata": {},
   "outputs": [],
   "source": [
    "input_data = (21,1,193848.36,12260.0)"
   ]
  },
  {
   "cell_type": "code",
   "execution_count": 55,
   "metadata": {},
   "outputs": [],
   "source": [
    "#changing input_data to a numpy array\n",
    "input_data_as_numpy_array = np.asarray(input_data)"
   ]
  },
  {
   "cell_type": "code",
   "execution_count": 56,
   "metadata": {},
   "outputs": [],
   "source": [
    "#reshape the array\n",
    "input_data_reshaped = input_data_as_numpy_array.reshape(1,-1)"
   ]
  },
  {
   "cell_type": "code",
   "execution_count": 57,
   "metadata": {},
   "outputs": [
    {
     "name": "stdout",
     "output_type": "stream",
     "text": [
      "[54139.9376]\n"
     ]
    }
   ],
   "source": [
    "prediction = regressor.predict(input_data_reshaped)\n",
    "print(prediction)"
   ]
  },
  {
   "cell_type": "code",
   "execution_count": 58,
   "metadata": {},
   "outputs": [
    {
     "data": {
      "text/html": [
       "<div>\n",
       "<style scoped>\n",
       "    .dataframe tbody tr th:only-of-type {\n",
       "        vertical-align: middle;\n",
       "    }\n",
       "\n",
       "    .dataframe tbody tr th {\n",
       "        vertical-align: top;\n",
       "    }\n",
       "\n",
       "    .dataframe thead th {\n",
       "        text-align: right;\n",
       "    }\n",
       "</style>\n",
       "<table border=\"1\" class=\"dataframe\">\n",
       "  <thead>\n",
       "    <tr style=\"text-align: right;\">\n",
       "      <th></th>\n",
       "      <th>Annual_Salary</th>\n",
       "      <th>age</th>\n",
       "      <th>gender</th>\n",
       "      <th>Annual_balance</th>\n",
       "      <th>Annual_Expense</th>\n",
       "    </tr>\n",
       "  </thead>\n",
       "  <tbody>\n",
       "    <tr>\n",
       "      <th>0</th>\n",
       "      <td>50464.44</td>\n",
       "      <td>53</td>\n",
       "      <td>1</td>\n",
       "      <td>245370.60</td>\n",
       "      <td>14611.0</td>\n",
       "    </tr>\n",
       "    <tr>\n",
       "      <th>1</th>\n",
       "      <td>100202.20</td>\n",
       "      <td>21</td>\n",
       "      <td>0</td>\n",
       "      <td>334801.68</td>\n",
       "      <td>35735.0</td>\n",
       "    </tr>\n",
       "    <tr>\n",
       "      <th>2</th>\n",
       "      <td>45996.24</td>\n",
       "      <td>28</td>\n",
       "      <td>0</td>\n",
       "      <td>140201.28</td>\n",
       "      <td>22046.0</td>\n",
       "    </tr>\n",
       "    <tr>\n",
       "      <th>3</th>\n",
       "      <td>88992.28</td>\n",
       "      <td>34</td>\n",
       "      <td>1</td>\n",
       "      <td>458300.32</td>\n",
       "      <td>26931.0</td>\n",
       "    </tr>\n",
       "    <tr>\n",
       "      <th>4</th>\n",
       "      <td>109304.44</td>\n",
       "      <td>34</td>\n",
       "      <td>1</td>\n",
       "      <td>667680.08</td>\n",
       "      <td>34898.0</td>\n",
       "    </tr>\n",
       "    <tr>\n",
       "      <th>5</th>\n",
       "      <td>63906.08</td>\n",
       "      <td>25</td>\n",
       "      <td>1</td>\n",
       "      <td>258325.40</td>\n",
       "      <td>18478.0</td>\n",
       "    </tr>\n",
       "    <tr>\n",
       "      <th>6</th>\n",
       "      <td>28623.84</td>\n",
       "      <td>44</td>\n",
       "      <td>0</td>\n",
       "      <td>252733.80</td>\n",
       "      <td>12918.0</td>\n",
       "    </tr>\n",
       "    <tr>\n",
       "      <th>7</th>\n",
       "      <td>64856.40</td>\n",
       "      <td>30</td>\n",
       "      <td>1</td>\n",
       "      <td>285744.80</td>\n",
       "      <td>51463.0</td>\n",
       "    </tr>\n",
       "    <tr>\n",
       "      <th>8</th>\n",
       "      <td>59217.08</td>\n",
       "      <td>20</td>\n",
       "      <td>1</td>\n",
       "      <td>306752.20</td>\n",
       "      <td>28210.0</td>\n",
       "    </tr>\n",
       "    <tr>\n",
       "      <th>9</th>\n",
       "      <td>56663.04</td>\n",
       "      <td>21</td>\n",
       "      <td>1</td>\n",
       "      <td>193848.36</td>\n",
       "      <td>12260.0</td>\n",
       "    </tr>\n",
       "    <tr>\n",
       "      <th>10</th>\n",
       "      <td>106001.84</td>\n",
       "      <td>52</td>\n",
       "      <td>0</td>\n",
       "      <td>347592.20</td>\n",
       "      <td>22971.0</td>\n",
       "    </tr>\n",
       "    <tr>\n",
       "      <th>11</th>\n",
       "      <td>58414.72</td>\n",
       "      <td>69</td>\n",
       "      <td>0</td>\n",
       "      <td>377133.16</td>\n",
       "      <td>16306.0</td>\n",
       "    </tr>\n",
       "    <tr>\n",
       "      <th>12</th>\n",
       "      <td>39426.24</td>\n",
       "      <td>24</td>\n",
       "      <td>0</td>\n",
       "      <td>108566.68</td>\n",
       "      <td>22827.0</td>\n",
       "    </tr>\n",
       "    <tr>\n",
       "      <th>13</th>\n",
       "      <td>109310.60</td>\n",
       "      <td>23</td>\n",
       "      <td>0</td>\n",
       "      <td>444861.56</td>\n",
       "      <td>28734.0</td>\n",
       "    </tr>\n",
       "    <tr>\n",
       "      <th>14</th>\n",
       "      <td>87588.24</td>\n",
       "      <td>38</td>\n",
       "      <td>0</td>\n",
       "      <td>371606.96</td>\n",
       "      <td>23204.0</td>\n",
       "    </tr>\n",
       "  </tbody>\n",
       "</table>\n",
       "</div>"
      ],
      "text/plain": [
       "    Annual_Salary  age  gender  Annual_balance  Annual_Expense\n",
       "0        50464.44   53       1       245370.60         14611.0\n",
       "1       100202.20   21       0       334801.68         35735.0\n",
       "2        45996.24   28       0       140201.28         22046.0\n",
       "3        88992.28   34       1       458300.32         26931.0\n",
       "4       109304.44   34       1       667680.08         34898.0\n",
       "5        63906.08   25       1       258325.40         18478.0\n",
       "6        28623.84   44       0       252733.80         12918.0\n",
       "7        64856.40   30       1       285744.80         51463.0\n",
       "8        59217.08   20       1       306752.20         28210.0\n",
       "9        56663.04   21       1       193848.36         12260.0\n",
       "10      106001.84   52       0       347592.20         22971.0\n",
       "11       58414.72   69       0       377133.16         16306.0\n",
       "12       39426.24   24       0       108566.68         22827.0\n",
       "13      109310.60   23       0       444861.56         28734.0\n",
       "14       87588.24   38       0       371606.96         23204.0"
      ]
     },
     "execution_count": 58,
     "metadata": {},
     "output_type": "execute_result"
    }
   ],
   "source": [
    "Salary.head(15)"
   ]
  },
  {
   "cell_type": "markdown",
   "metadata": {},
   "source": [
    "The model was tested with the 9th row and it could predict near accurate results with the Random Forest Regression.The actual Annual Salary was 56663.04 but the model predicted 54139.9376.\n",
    "\n",
    "However, the Decision Tree and Linear Regression perfomed poorly in the prediction."
   ]
  },
  {
   "cell_type": "markdown",
   "metadata": {},
   "source": [
    "# Conclusion"
   ]
  },
  {
   "cell_type": "markdown",
   "metadata": {},
   "source": [
    "The Random Forest Regressor gave near accurate figures, hence, it was the best performance.The Random Forest Regressor gave an R_squared of 92.2%. It means, 92.2% of the observed variation can be explained by the Random Forest Regressor model's inputs.\n",
    "\n",
    "The Decision Tree performed better than the linear regression. The Decision Tree achieved an R_Squared score of 56% while the linear regression was 17%. It means, only 56% and 17% of the observed variation can be explained by the Decision Tree model's inputs and Linear regression model's input respectively.\n",
    "\n",
    "It is thus risky to use this linear model to predict customers’ income bracket. More data is required to develop a more reliable model."
   ]
  },
  {
   "cell_type": "code",
   "execution_count": null,
   "metadata": {},
   "outputs": [],
   "source": []
  }
 ],
 "metadata": {
  "kernelspec": {
   "display_name": "Python 3",
   "language": "python",
   "name": "python3"
  },
  "language_info": {
   "codemirror_mode": {
    "name": "ipython",
    "version": 3
   },
   "file_extension": ".py",
   "mimetype": "text/x-python",
   "name": "python",
   "nbconvert_exporter": "python",
   "pygments_lexer": "ipython3",
   "version": "3.8.5"
  }
 },
 "nbformat": 4,
 "nbformat_minor": 4
}
